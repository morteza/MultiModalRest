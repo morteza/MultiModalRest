{
 "cells": [
  {
   "cell_type": "code",
   "execution_count": 32,
   "metadata": {},
   "outputs": [],
   "source": [
    "import xarray as xr\n",
    "from pathlib import Path\n",
    "from tqdm.auto import tqdm\n",
    "import torch\n",
    "from sklearn.preprocessing import LabelEncoder"
   ]
  },
  {
   "cell_type": "code",
   "execution_count": 40,
   "metadata": {},
   "outputs": [],
   "source": [
    "label_encoder = LabelEncoder()\n"
   ]
  },
  {
   "cell_type": "code",
   "execution_count": 42,
   "metadata": {},
   "outputs": [
    {
     "data": {
      "application/vnd.jupyter.widget-view+json": {
       "model_id": "13638d233ef34852a8788337ae910083",
       "version_major": 2,
       "version_minor": 0
      },
      "text/plain": [
       "  0%|          | 0/6 [00:00<?, ?it/s]"
      ]
     },
     "metadata": {},
     "output_type": "display_data"
    },
    {
     "data": {
      "text/plain": [
       "array([1, 1, 1, 1, 1, 1, 1, 1, 1, 0, 1, 1, 1, 0, 1, 1, 2, 2, 2, 2, 2, 2,\n",
       "       2, 2, 2, 2, 2, 2, 2, 2, 2, 2])"
      ]
     },
     "execution_count": 42,
     "metadata": {},
     "output_type": "execute_result"
    }
   ],
   "source": [
    "# load time-series and concatenate them along the regions dimension\n",
    "\n",
    "def get_atlas_name(file_name):\n",
    "    name = file_name.replace('-','_').replace('_2mm','')\n",
    "    name = name.replace('difumo_','difumo')\n",
    "    return name.split('_', 1)[1]\n",
    "\n",
    "ts_files = {\n",
    "    get_atlas_name(f.stem): f\n",
    "    for f in Path('data/julia2018/').glob('*.nc5')\n",
    "}\n",
    "\n",
    "X_regions = []\n",
    "y_subject = xr.open_dataset(ts_files['dosenbach2010'])['subject'].values\n",
    "y_class = xr.open_dataset(ts_files['dosenbach2010'])['group'].values\n",
    "\n",
    "for atlas_name, ts_file in tqdm(ts_files.items()):\n",
    "\n",
    "    ds = xr.open_dataset(ts_file)\n",
    "    ts = torch.tensor(ds['timeseries'].values)\n",
    "    X_regions.append(ts)\n",
    "\n",
    "\n",
    "label_encoder.fit_transform(y_class)"
   ]
  }
 ],
 "metadata": {
  "kernelspec": {
   "display_name": "acnets-multihead",
   "language": "python",
   "name": "python3"
  },
  "language_info": {
   "codemirror_mode": {
    "name": "ipython",
    "version": 3
   },
   "file_extension": ".py",
   "mimetype": "text/x-python",
   "name": "python",
   "nbconvert_exporter": "python",
   "pygments_lexer": "ipython3",
   "version": "3.11.3"
  },
  "orig_nbformat": 4
 },
 "nbformat": 4,
 "nbformat_minor": 2
}
