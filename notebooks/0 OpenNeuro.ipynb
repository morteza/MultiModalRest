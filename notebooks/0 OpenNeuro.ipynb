{
 "cells": [
  {
   "cell_type": "code",
   "execution_count": null,
   "metadata": {},
   "outputs": [],
   "source": [
    "# you can also use `%%bash`` or `%%script bash` (instead of !) to run bash commands in a cell. In that case standard outputs will be discarded.\n",
    "\n",
    "# !npm install -g --silent @openneuro/cli\n",
    "# !openneuro login\n",
    "!openneuro download --draft ds004572 data/ds004572/\n",
    "!dvc add data/ds004572/"
   ]
  }
 ],
 "metadata": {
  "kernelspec": {
   "display_name": "MultiModalRest",
   "language": "python",
   "name": "python3"
  },
  "language_info": {
   "codemirror_mode": {
    "name": "ipython",
    "version": 3
   },
   "file_extension": ".py",
   "mimetype": "text/x-python",
   "name": "python",
   "nbconvert_exporter": "python",
   "pygments_lexer": "ipython3",
   "version": "3.10.11"
  },
  "orig_nbformat": 4
 },
 "nbformat": 4,
 "nbformat_minor": 2
}
