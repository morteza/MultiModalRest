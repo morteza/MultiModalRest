{
 "cells": [
  {
   "cell_type": "code",
   "execution_count": 111,
   "metadata": {},
   "outputs": [
    {
     "name": "stdout",
     "output_type": "stream",
     "text": [
      "train subjects: [0, 1, 2, 4, 6, 7, 8, 9, 12, 13, 14, 15, 17, 18, 19, 20, 21, 22, 23, 25, 26, 27, 30, 31]\n",
      "val subjects: [3, 5, 10, 11, 16, 24, 28, 29]\n"
     ]
    }
   ],
   "source": [
    "%reload_ext autoreload\n",
    "%autoreload 3\n",
    "\n",
    "from src.data.julia2018 import Julia2018DataModule\n",
    "\n",
    "dm = Julia2018DataModule(segment_size=31)\n",
    "dm.prepare_data()\n",
    "trn_ids = dm.trn_data[:][2].unique()\n",
    "val_ids = dm.val_data[:][2].unique()\n",
    "\n",
    "print('train subjects:', trn_ids.tolist())\n",
    "print('val subjects:', val_ids.tolist())\n"
   ]
  }
 ],
 "metadata": {
  "kernelspec": {
   "display_name": "acnets-multihead",
   "language": "python",
   "name": "python3"
  },
  "language_info": {
   "codemirror_mode": {
    "name": "ipython",
    "version": 3
   },
   "file_extension": ".py",
   "mimetype": "text/x-python",
   "name": "python",
   "nbconvert_exporter": "python",
   "pygments_lexer": "ipython3",
   "version": "3.10.10"
  },
  "orig_nbformat": 4
 },
 "nbformat": 4,
 "nbformat_minor": 2
}
