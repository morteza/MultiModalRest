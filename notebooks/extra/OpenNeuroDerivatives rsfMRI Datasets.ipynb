{
 "cells": [
  {
   "cell_type": "markdown",
   "metadata": {},
   "source": [
    "We want to identify a list of OpenNeuro datasets that already preprocessed and included resting-state session.\n",
    "\n",
    "OpenNeuroDerivatives already provides preprocessed data, but it is not clear which datasets have resting-state sessions. The following code identifies the datasets that have resting-state sessions.\n",
    "\n",
    "Before running this code, you need to download the OpenNeuroDerivatives super-dataset using DataLad:\n",
    "\n",
    "```\n",
    "datalad install https://github.com/OpenNeuroDerivatives/OpenNeuroDerivatives.git\n",
    "cd OpenNeuroDerivatives\n",
    "datalad get *fmriprep\n",
    "```\n",
    "\n",
    "Please chance the `DERIVATIVES_DIR` variable to the location of the OpenNeuroDerivatives super-dataset.\n"
   ]
  },
  {
   "cell_type": "code",
   "execution_count": 30,
   "metadata": {},
   "outputs": [
    {
     "data": {
      "text/plain": [
       "{'ds000208-fmriprep',\n",
       " 'ds000220-fmriprep',\n",
       " 'ds000224-fmriprep',\n",
       " 'ds000243-fmriprep',\n",
       " 'ds000245-fmriprep',\n",
       " 'ds001226-fmriprep',\n",
       " 'ds001419-fmriprep',\n",
       " 'ds001832-fmriprep',\n",
       " 'ds002153-fmriprep',\n",
       " 'ds002156-fmriprep',\n",
       " 'ds002422-fmriprep',\n",
       " 'ds002748-fmriprep',\n",
       " 'ds002898-fmriprep',\n",
       " 'ds003007-fmriprep',\n",
       " 'ds003085-fmriprep',\n",
       " 'ds003548-fmriprep',\n",
       " 'ds003768-fmriprep'}"
      ]
     },
     "execution_count": 30,
     "metadata": {},
     "output_type": "execute_result"
    }
   ],
   "source": [
    "import glob\n",
    "from pathlib import Path\n",
    "\n",
    "\n",
    "DERIVATIVES_DIR = Path('~/OpenNeuroDerivatives/').expanduser()\n",
    "\n",
    "rsfmri_files = glob.glob('ds*fmriprep/**/*task-rest*.nii', root_dir=DERIVATIVES_DIR, recursive=True)\n",
    "\n",
    "# extract dataset names\n",
    "rsfmri_ds_names = {f.split('/')[0] for f in rsfmri_files}\n",
    "\n",
    "rsfmri_ds_names"
   ]
  }
 ],
 "metadata": {
  "kernelspec": {
   "display_name": "base",
   "language": "python",
   "name": "python3"
  },
  "language_info": {
   "codemirror_mode": {
    "name": "ipython",
    "version": 3
   },
   "file_extension": ".py",
   "mimetype": "text/x-python",
   "name": "python",
   "nbconvert_exporter": "python",
   "pygments_lexer": "ipython3",
   "version": "3.11.4"
  },
  "orig_nbformat": 4
 },
 "nbformat": 4,
 "nbformat_minor": 2
}
