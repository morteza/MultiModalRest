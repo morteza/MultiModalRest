{
 "cells": [
  {
   "cell_type": "code",
   "execution_count": null,
   "metadata": {},
   "outputs": [],
   "source": [
    "%reload_ext autoreload\n",
    "%autoreload 3\n",
    "\n",
    "import torch\n",
    "from torch import nn\n",
    "import pytorch_lightning as pl\n",
    "\n",
    "from src.transformer_model import TransformerModel\n",
    "from src.data.julia2018 import Julia2018DataModule\n",
    "\n",
    "from pytorch_lightning.loggers import TensorBoardLogger\n",
    "from dvclive.lightning import DVCLiveLogger"
   ]
  },
  {
   "cell_type": "code",
   "execution_count": null,
   "metadata": {},
   "outputs": [],
   "source": [
    "selected_parcellations = ['dosenbach2010']#, 'gordon2014', 'difumo64']\n",
    "\n",
    "datamodule = Julia2018DataModule(segment_size=31, batch_size=16, shuffle=False)\n",
    "datamodule.prepare_data()\n",
    "n_subjects = len(datamodule.subjects)\n",
    "n_inputs = datamodule.n_features"
   ]
  },
  {
   "cell_type": "code",
   "execution_count": null,
   "metadata": {},
   "outputs": [],
   "source": [
    "n_features = n_inputs\n",
    "\n",
    "model = TransformerModel(n_features, 2)\n",
    "# model = torch.compile(model)  # is not supported on GTX 1070\n",
    "\n",
    "trainer = pl.Trainer(\n",
    "    max_epochs=100, accelerator='auto', log_every_n_steps=1,\n",
    "    logger=[DVCLiveLogger(save_dvc_exp=True, report='md'),\n",
    "            TensorBoardLogger('.')]\n",
    "    )\n",
    "trainer.fit(model, datamodule=datamodule)\n"
   ]
  }
 ],
 "metadata": {
  "kernelspec": {
   "display_name": "acnets-multihead",
   "language": "python",
   "name": "python3"
  },
  "language_info": {
   "codemirror_mode": {
    "name": "ipython",
    "version": 3
   },
   "file_extension": ".py",
   "mimetype": "text/x-python",
   "name": "python",
   "nbconvert_exporter": "python",
   "pygments_lexer": "ipython3",
   "version": "3.10.10"
  },
  "orig_nbformat": 4
 },
 "nbformat": 4,
 "nbformat_minor": 2
}
