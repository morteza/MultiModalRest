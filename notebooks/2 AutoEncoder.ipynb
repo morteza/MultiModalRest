{
 "cells": [
  {
   "cell_type": "code",
   "execution_count": null,
   "metadata": {},
   "outputs": [],
   "source": [
    "%reload_ext autoreload\n",
    "%autoreload 3\n",
    "\n",
    "import pytorch_lightning as pl\n",
    "from dvclive.lightning import DVCLiveLogger\n",
    "from pytorch_lightning.loggers import TensorBoardLogger\n",
    "\n",
    "from src.data import OpenNeuroDataModule\n",
    "from src.models import MultiHeadClassifier"
   ]
  },
  {
   "cell_type": "code",
   "execution_count": null,
   "metadata": {},
   "outputs": [],
   "source": [
    "datamodule = OpenNeuroDataModule()\n",
    "\n",
    "# this is a test\n",
    "model = MultiHeadClassifier(n_inputs=10,\n",
    "                            n_spatial_features=2,\n",
    "                            n_temporal_features=10,\n",
    "                            n_subjects=10)\n",
    "\n",
    "trainer = pl.Trainer(\n",
    "    max_epochs=1, accelerator='auto', log_every_n_steps=1,\n",
    "    logger=[DVCLiveLogger(save_dvc_exp=True, report='md'),\n",
    "            TensorBoardLogger('.')]\n",
    "    )\n",
    "trainer.fit(model, datamodule=datamodule)"
   ]
  }
 ],
 "metadata": {
  "kernelspec": {
   "display_name": "MultiModalRest",
   "language": "python",
   "name": "python3"
  },
  "language_info": {
   "codemirror_mode": {
    "name": "ipython",
    "version": 3
   },
   "file_extension": ".py",
   "mimetype": "text/x-python",
   "name": "python",
   "nbconvert_exporter": "python",
   "pygments_lexer": "ipython3",
   "version": "3.11.6"
  }
 },
 "nbformat": 4,
 "nbformat_minor": 2
}
